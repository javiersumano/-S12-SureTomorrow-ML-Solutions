{
 "cells": [
  {
   "cell_type": "markdown",
   "metadata": {},
   "source": [
    "# Descripción"
   ]
  },
  {
   "cell_type": "markdown",
   "metadata": {},
   "source": [
    "La compañía de seguros Sure Tomorrow quiere resolver varias tareas con la ayuda de machine learning y te pide que evalúes esa posibilidad.\n",
    "- Tarea 1: encontrar clientes que sean similares a un cliente determinado. Esto ayudará a los agentes de la compañía con el marketing.\n",
    "- Tarea 2: predecir la probabilidad de que un nuevo cliente reciba una prestación del seguro. ¿Puede un modelo de predictivo funcionar mejor que un modelo dummy?\n",
    "- Tarea 3: predecir el número de prestaciones de seguro que un nuevo cliente pueda recibir utilizando un modelo de regresión lineal.\n",
    "- Tarea 4: proteger los datos personales de los clientes sin afectar al modelo del ejercicio anterior. Es necesario desarrollar un algoritmo de transformación de datos que dificulte la recuperación de la información personal si los datos caen en manos equivocadas. Esto se denomina enmascaramiento u ofuscación de datos. Pero los datos deben protegerse de tal manera que no se vea afectada la calidad de los modelos de machine learning. No es necesario elegir el mejor modelo, basta con demostrar que el algoritmo funciona correctamente.\n"
   ]
  },
  {
   "cell_type": "markdown",
   "metadata": {},
   "source": [
    "# Preprocesamiento y exploración de datos\n",
    "\n",
    "## Inicialización"
   ]
  },
  {
   "cell_type": "code",
   "execution_count": 2,
   "metadata": {},
   "outputs": [],
   "source": [
    "import numpy as np\n",
    "import pandas as pd\n",
    "\n",
    "import seaborn as sns\n",
    "\n",
    "import sklearn.linear_model\n",
    "import sklearn.metrics\n",
    "import sklearn.neighbors\n",
    "import sklearn.preprocessing\n",
    "\n",
    "from sklearn.model_selection import train_test_split\n",
    "\n",
    "from IPython.display import display"
   ]
  },
  {
   "cell_type": "markdown",
   "metadata": {},
   "source": [
    "## Carga de datos"
   ]
  },
  {
   "cell_type": "markdown",
   "metadata": {},
   "source": [
    "Carga los datos y haz una revisión básica para comprobar que no hay problemas obvios."
   ]
  },
  {
   "cell_type": "code",
   "execution_count": 3,
   "metadata": {},
   "outputs": [],
   "source": [
    "df = pd.read_csv('/datasets/insurance_us.csv')"
   ]
  },
  {
   "cell_type": "markdown",
   "metadata": {},
   "source": [
    "Renombramos las columnas para que el código se vea más coherente con su estilo."
   ]
  },
  {
   "cell_type": "code",
   "execution_count": 4,
   "metadata": {},
   "outputs": [],
   "source": [
    "df = df.rename(columns={'Gender': 'gender', 'Age': 'age', 'Salary': 'income', 'Family members': 'family_members', 'Insurance benefits': 'insurance_benefits'})"
   ]
  },
  {
   "cell_type": "code",
   "execution_count": 5,
   "metadata": {},
   "outputs": [
    {
     "data": {
      "text/html": [
       "<div>\n",
       "<style scoped>\n",
       "    .dataframe tbody tr th:only-of-type {\n",
       "        vertical-align: middle;\n",
       "    }\n",
       "\n",
       "    .dataframe tbody tr th {\n",
       "        vertical-align: top;\n",
       "    }\n",
       "\n",
       "    .dataframe thead th {\n",
       "        text-align: right;\n",
       "    }\n",
       "</style>\n",
       "<table border=\"1\" class=\"dataframe\">\n",
       "  <thead>\n",
       "    <tr style=\"text-align: right;\">\n",
       "      <th></th>\n",
       "      <th>gender</th>\n",
       "      <th>age</th>\n",
       "      <th>income</th>\n",
       "      <th>family_members</th>\n",
       "      <th>insurance_benefits</th>\n",
       "    </tr>\n",
       "  </thead>\n",
       "  <tbody>\n",
       "    <tr>\n",
       "      <th>3542</th>\n",
       "      <td>0</td>\n",
       "      <td>29.0</td>\n",
       "      <td>22500.0</td>\n",
       "      <td>1</td>\n",
       "      <td>0</td>\n",
       "    </tr>\n",
       "    <tr>\n",
       "      <th>4972</th>\n",
       "      <td>1</td>\n",
       "      <td>25.0</td>\n",
       "      <td>29000.0</td>\n",
       "      <td>1</td>\n",
       "      <td>0</td>\n",
       "    </tr>\n",
       "    <tr>\n",
       "      <th>3441</th>\n",
       "      <td>1</td>\n",
       "      <td>23.0</td>\n",
       "      <td>13500.0</td>\n",
       "      <td>1</td>\n",
       "      <td>0</td>\n",
       "    </tr>\n",
       "    <tr>\n",
       "      <th>2509</th>\n",
       "      <td>0</td>\n",
       "      <td>25.0</td>\n",
       "      <td>52600.0</td>\n",
       "      <td>1</td>\n",
       "      <td>0</td>\n",
       "    </tr>\n",
       "    <tr>\n",
       "      <th>2344</th>\n",
       "      <td>1</td>\n",
       "      <td>22.0</td>\n",
       "      <td>34300.0</td>\n",
       "      <td>1</td>\n",
       "      <td>0</td>\n",
       "    </tr>\n",
       "    <tr>\n",
       "      <th>1708</th>\n",
       "      <td>1</td>\n",
       "      <td>36.0</td>\n",
       "      <td>50100.0</td>\n",
       "      <td>0</td>\n",
       "      <td>0</td>\n",
       "    </tr>\n",
       "    <tr>\n",
       "      <th>2241</th>\n",
       "      <td>0</td>\n",
       "      <td>36.0</td>\n",
       "      <td>22800.0</td>\n",
       "      <td>2</td>\n",
       "      <td>0</td>\n",
       "    </tr>\n",
       "    <tr>\n",
       "      <th>1917</th>\n",
       "      <td>1</td>\n",
       "      <td>44.0</td>\n",
       "      <td>48500.0</td>\n",
       "      <td>1</td>\n",
       "      <td>1</td>\n",
       "    </tr>\n",
       "    <tr>\n",
       "      <th>3471</th>\n",
       "      <td>0</td>\n",
       "      <td>42.0</td>\n",
       "      <td>46000.0</td>\n",
       "      <td>0</td>\n",
       "      <td>1</td>\n",
       "    </tr>\n",
       "    <tr>\n",
       "      <th>4462</th>\n",
       "      <td>0</td>\n",
       "      <td>29.0</td>\n",
       "      <td>44800.0</td>\n",
       "      <td>0</td>\n",
       "      <td>0</td>\n",
       "    </tr>\n",
       "  </tbody>\n",
       "</table>\n",
       "</div>"
      ],
      "text/plain": [
       "      gender   age   income  family_members  insurance_benefits\n",
       "3542       0  29.0  22500.0               1                   0\n",
       "4972       1  25.0  29000.0               1                   0\n",
       "3441       1  23.0  13500.0               1                   0\n",
       "2509       0  25.0  52600.0               1                   0\n",
       "2344       1  22.0  34300.0               1                   0\n",
       "1708       1  36.0  50100.0               0                   0\n",
       "2241       0  36.0  22800.0               2                   0\n",
       "1917       1  44.0  48500.0               1                   1\n",
       "3471       0  42.0  46000.0               0                   1\n",
       "4462       0  29.0  44800.0               0                   0"
      ]
     },
     "execution_count": 5,
     "metadata": {},
     "output_type": "execute_result"
    }
   ],
   "source": [
    "df.sample(10)"
   ]
  },
  {
   "cell_type": "code",
   "execution_count": 6,
   "metadata": {},
   "outputs": [
    {
     "name": "stdout",
     "output_type": "stream",
     "text": [
      "<class 'pandas.core.frame.DataFrame'>\n",
      "RangeIndex: 5000 entries, 0 to 4999\n",
      "Data columns (total 5 columns):\n",
      " #   Column              Non-Null Count  Dtype  \n",
      "---  ------              --------------  -----  \n",
      " 0   gender              5000 non-null   int64  \n",
      " 1   age                 5000 non-null   float64\n",
      " 2   income              5000 non-null   float64\n",
      " 3   family_members      5000 non-null   int64  \n",
      " 4   insurance_benefits  5000 non-null   int64  \n",
      "dtypes: float64(2), int64(3)\n",
      "memory usage: 195.4 KB\n"
     ]
    }
   ],
   "source": [
    "df.info()"
   ]
  },
  {
   "cell_type": "code",
   "execution_count": 7,
   "metadata": {},
   "outputs": [],
   "source": [
    "# puede que queramos cambiar el tipo de edad (de float a int) aunque esto no es crucial\n",
    "\n",
    "# escribe tu conversión aquí si lo deseas:\n",
    "df['age']= df['age'].astype(int)"
   ]
  },
  {
   "cell_type": "code",
   "execution_count": 8,
   "metadata": {},
   "outputs": [],
   "source": [
    "# comprueba que la conversión se haya realizado con éxito"
   ]
  },
  {
   "cell_type": "code",
   "execution_count": 9,
   "metadata": {},
   "outputs": [
    {
     "name": "stdout",
     "output_type": "stream",
     "text": [
      "<class 'pandas.core.frame.DataFrame'>\n",
      "RangeIndex: 5000 entries, 0 to 4999\n",
      "Data columns (total 5 columns):\n",
      " #   Column              Non-Null Count  Dtype  \n",
      "---  ------              --------------  -----  \n",
      " 0   gender              5000 non-null   int64  \n",
      " 1   age                 5000 non-null   int64  \n",
      " 2   income              5000 non-null   float64\n",
      " 3   family_members      5000 non-null   int64  \n",
      " 4   insurance_benefits  5000 non-null   int64  \n",
      "dtypes: float64(1), int64(4)\n",
      "memory usage: 195.4 KB\n"
     ]
    }
   ],
   "source": [
    "df.info()"
   ]
  },
  {
   "cell_type": "code",
   "execution_count": 10,
   "metadata": {},
   "outputs": [],
   "source": [
    "# ahora echa un vistazo a las estadísticas descriptivas de los datos.# ¿Se ve todo bien?"
   ]
  },
  {
   "cell_type": "code",
   "execution_count": 11,
   "metadata": {},
   "outputs": [
    {
     "name": "stdout",
     "output_type": "stream",
     "text": [
      "En el DataFrame de Insurance se encontro que hay: \n",
      "gender                0\n",
      "age                   0\n",
      "income                0\n",
      "family_members        0\n",
      "insurance_benefits    0\n",
      "dtype: int64\n",
      "\n"
     ]
    }
   ],
   "source": [
    "data_miss = df.isna().sum()\n",
    "print(f'En el DataFrame de Insurance se encontro que hay: \\n{data_miss}\\n')"
   ]
  },
  {
   "cell_type": "markdown",
   "metadata": {},
   "source": [
    "Con este análisis se pudo comprobar que el DataFrame con el que estamos trabajando no tiene datos nulos. "
   ]
  },
  {
   "cell_type": "markdown",
   "metadata": {},
   "source": [
    "## Análisis exploratorio de datos"
   ]
  },
  {
   "cell_type": "markdown",
   "metadata": {},
   "source": [
    "Vamos a comprobar rápidamente si existen determinados grupos de clientes observando el gráfico de pares."
   ]
  },
  {
   "cell_type": "code",
   "execution_count": 12,
   "metadata": {},
   "outputs": [
    {
     "data": {
      "image/png": "[encoded data removed]",
      "text/plain": [
       "<Figure size 1200x1200 with 30 Axes>"
      ]
     },
     "metadata": {},
     "output_type": "display_data"
    }
   ],
   "source": [
    "g = sns.pairplot(df, kind='hist')\n",
    "g.fig.set_size_inches(12, 12)"
   ]
  },
  {
   "cell_type": "markdown",
   "metadata": {},
   "source": [
    "De acuerdo, es un poco complicado detectar grupos obvios (clústeres) ya que es difícil combinar diversas variables simultáneamente (para analizar distribuciones multivariadas). Ahí es donde LA y ML pueden ser bastante útiles."
   ]
  },
  {
   "cell_type": "markdown",
   "metadata": {},
   "source": [
    "# Tarea 1. Clientes similares"
   ]
  },
  {
   "cell_type": "markdown",
   "metadata": {},
   "source": [
    "En el lenguaje de ML, es necesario desarrollar un procedimiento que devuelva los k vecinos más cercanos (objetos) para un objeto dado basándose en la distancia entre los objetos.\n",
    "Es posible que quieras revisar las siguientes lecciones (capítulo -> lección)- Distancia entre vectores -> Distancia euclidiana\n",
    "- Distancia entre vectores -> Distancia Manhattan\n",
    "\n",
    "Para resolver la tarea, podemos probar diferentes métricas de distancia."
   ]
  },
  {
   "cell_type": "markdown",
   "metadata": {},
   "source": [
    "Escribe una función que devuelva los k vecinos más cercanos para un $n^{th}$ objeto basándose en una métrica de distancia especificada. A la hora de realizar esta tarea no debe tenerse en cuenta el número de prestaciones de seguro recibidas.\n",
    "Puedes utilizar una implementación ya existente del algoritmo kNN de scikit-learn (consulta [el enlace](https://scikit-learn.org/stable/modules/generated/sklearn.neighbors.NearestNeighbors.html#sklearn.neighbors.NearestNeighbors)) o tu propia implementación.\n",
    "Pruébalo para cuatro combinaciones de dos casos- Escalado\n",
    "  - los datos no están escalados\n",
    "  - los datos se escalan con el escalador [MaxAbsScaler](https://scikit-learn.org/stable/modules/generated/sklearn.preprocessing.MaxAbsScaler.html)\n",
    "- Métricas de distancia\n",
    "  - Euclidiana\n",
    "  - Manhattan\n",
    "\n",
    "Responde a estas preguntas:- ¿El hecho de que los datos no estén escalados afecta al algoritmo kNN? Si es así, ¿cómo se manifiesta?- ¿Qué tan similares son los resultados al utilizar la métrica de distancia Manhattan (independientemente del escalado)?"
   ]
  },
  {
   "cell_type": "code",
   "execution_count": 13,
   "metadata": {},
   "outputs": [],
   "source": [
    "feature_names = ['gender', 'age', 'income', 'family_members']"
   ]
  },
  {
   "cell_type": "code",
   "execution_count": 14,
   "metadata": {},
   "outputs": [],
   "source": [
    "def get_knn(df, n, k, metric):\n",
    "    \n",
    "    \"\"\"\n",
    "    Devuelve los k vecinos más cercanos\n",
    "\n",
    "    :param df: DataFrame de pandas utilizado para encontrar objetos similares dentro del mismo lugar    \n",
    "    :param n: número de objetos para los que se buscan los vecinos más cercanos    \n",
    "    :param k: número de vecinos más cercanos a devolver\n",
    "    :param métrica: nombre de la métrica de distancia    \"\"\"\n",
    "\n",
    "    nbrs = sklearn.neighbors.NearestNeighbors(n_neighbors= k, metric = metric)\n",
    "    nbrs.fit(df[feature_names]) # <tu código aquí> \n",
    "    nbrs_distances, nbrs_indices = nbrs.kneighbors([df.iloc[n][feature_names]], k, return_distance=True)\n",
    "    \n",
    "    df_res = pd.concat([\n",
    "        df.iloc[nbrs_indices[0]], \n",
    "        pd.DataFrame(nbrs_distances.T, index=nbrs_indices[0], columns=['distance'])\n",
    "        ], axis=1)\n",
    "    \n",
    "    return df_res"
   ]
  },
  {
   "cell_type": "markdown",
   "metadata": {},
   "source": [
    "Escalar datos."
   ]
  },
  {
   "cell_type": "code",
   "execution_count": 15,
   "metadata": {},
   "outputs": [],
   "source": [
    "feature_names = ['gender', 'age', 'income', 'family_members']\n",
    "\n",
    "transformer_mas = sklearn.preprocessing.MaxAbsScaler().fit(df[feature_names].to_numpy())\n",
    "\n",
    "df_scaled = df.copy()\n",
    "df_scaled.loc[:, feature_names] = transformer_mas.transform(df[feature_names].to_numpy())"
   ]
  },
  {
   "cell_type": "code",
   "execution_count": 16,
   "metadata": {},
   "outputs": [
    {
     "data": {
      "text/html": [
       "<div>\n",
       "<style scoped>\n",
       "    .dataframe tbody tr th:only-of-type {\n",
       "        vertical-align: middle;\n",
       "    }\n",
       "\n",
       "    .dataframe tbody tr th {\n",
       "        vertical-align: top;\n",
       "    }\n",
       "\n",
       "    .dataframe thead th {\n",
       "        text-align: right;\n",
       "    }\n",
       "</style>\n",
       "<table border=\"1\" class=\"dataframe\">\n",
       "  <thead>\n",
       "    <tr style=\"text-align: right;\">\n",
       "      <th></th>\n",
       "      <th>gender</th>\n",
       "      <th>age</th>\n",
       "      <th>income</th>\n",
       "      <th>family_members</th>\n",
       "      <th>insurance_benefits</th>\n",
       "    </tr>\n",
       "  </thead>\n",
       "  <tbody>\n",
       "    <tr>\n",
       "      <th>201</th>\n",
       "      <td>0.0</td>\n",
       "      <td>0.338462</td>\n",
       "      <td>0.406329</td>\n",
       "      <td>0.000000</td>\n",
       "      <td>0</td>\n",
       "    </tr>\n",
       "    <tr>\n",
       "      <th>4675</th>\n",
       "      <td>0.0</td>\n",
       "      <td>0.400000</td>\n",
       "      <td>0.592405</td>\n",
       "      <td>0.166667</td>\n",
       "      <td>0</td>\n",
       "    </tr>\n",
       "    <tr>\n",
       "      <th>2924</th>\n",
       "      <td>1.0</td>\n",
       "      <td>0.507692</td>\n",
       "      <td>0.482278</td>\n",
       "      <td>0.166667</td>\n",
       "      <td>0</td>\n",
       "    </tr>\n",
       "    <tr>\n",
       "      <th>4651</th>\n",
       "      <td>0.0</td>\n",
       "      <td>0.430769</td>\n",
       "      <td>0.421519</td>\n",
       "      <td>0.333333</td>\n",
       "      <td>0</td>\n",
       "    </tr>\n",
       "    <tr>\n",
       "      <th>4493</th>\n",
       "      <td>0.0</td>\n",
       "      <td>0.692308</td>\n",
       "      <td>0.878481</td>\n",
       "      <td>0.166667</td>\n",
       "      <td>1</td>\n",
       "    </tr>\n",
       "  </tbody>\n",
       "</table>\n",
       "</div>"
      ],
      "text/plain": [
       "      gender       age    income  family_members  insurance_benefits\n",
       "201      0.0  0.338462  0.406329        0.000000                   0\n",
       "4675     0.0  0.400000  0.592405        0.166667                   0\n",
       "2924     1.0  0.507692  0.482278        0.166667                   0\n",
       "4651     0.0  0.430769  0.421519        0.333333                   0\n",
       "4493     0.0  0.692308  0.878481        0.166667                   1"
      ]
     },
     "execution_count": 16,
     "metadata": {},
     "output_type": "execute_result"
    }
   ],
   "source": [
    "df_scaled.sample(5)"
   ]
  },
  {
   "cell_type": "markdown",
   "metadata": {},
   "source": [
    "Ahora, vamos a obtener registros similares para uno determinado, para cada combinación"
   ]
  },
  {
   "cell_type": "code",
   "execution_count": 17,
   "metadata": {
    "scrolled": true
   },
   "outputs": [
    {
     "name": "stdout",
     "output_type": "stream",
     "text": [
      "Datos sin escalar, distancia Euclidiana\n",
      "      gender  age   income  family_members  insurance_benefits   distance\n",
      "1          0   46  38000.0               1                   1   0.000000\n",
      "3920       0   40  38000.0               0                   0   6.082763\n",
      "4948       1   37  38000.0               1                   0   9.055385\n",
      "2528       1   36  38000.0               0                   0  10.099505\n",
      "3593       0   33  38000.0               0                   0  13.038405\n"
     ]
    }
   ],
   "source": [
    "# índice de referencía \n",
    "n = 1 #ejemplo, el primer vecino \n",
    "k = 5 # número de vecinos a estudiar \n",
    "\n",
    "# Combinación 1: Datos sin escalar, distancia Euclidiana\n",
    "print(\"Datos sin escalar, distancia Euclidiana\")\n",
    "print(get_knn(df, n, k, metric = 'euclidean'))"
   ]
  },
  {
   "cell_type": "code",
   "execution_count": 18,
   "metadata": {},
   "outputs": [
    {
     "name": "stdout",
     "output_type": "stream",
     "text": [
      "Datos sin escalar, distancia Manhattan.\n",
      "      gender  age   income  family_members  insurance_benefits  distance\n",
      "1          0   46  38000.0               1                   1       0.0\n",
      "3920       0   40  38000.0               0                   0       7.0\n",
      "4948       1   37  38000.0               1                   0      10.0\n",
      "2528       1   36  38000.0               0                   0      12.0\n",
      "3593       0   33  38000.0               0                   0      14.0\n"
     ]
    }
   ],
   "source": [
    "n = 1 #ejemplo, el primer vecino \n",
    "k = 5 # número de vecinos a estudia\n",
    "#Combinación 2: Datos sin escalar, distancia Manhattan.\n",
    "print(\"Datos sin escalar, distancia Manhattan.\")\n",
    "print(get_knn(df, n, k, metric ='manhattan'))"
   ]
  },
  {
   "cell_type": "code",
   "execution_count": 19,
   "metadata": {},
   "outputs": [
    {
     "name": "stdout",
     "output_type": "stream",
     "text": [
      "Datos escalados, distancia Euclidiana\n",
      "      gender       age    income  family_members  insurance_benefits  distance\n",
      "1        0.0  0.707692  0.481013        0.166667                   1  0.000000\n",
      "4162     0.0  0.707692  0.477215        0.166667                   1  0.003797\n",
      "1863     0.0  0.707692  0.492405        0.166667                   1  0.011392\n",
      "4986     0.0  0.723077  0.491139        0.166667                   1  0.018418\n",
      "4477     0.0  0.692308  0.459494        0.166667                   1  0.026453\n"
     ]
    }
   ],
   "source": [
    "n = 1 #ejemplo, el primer vecino \n",
    "k = 5 # número de vecinos a estudia\n",
    "#Combinación 3: Datos escalados, distanica Euclidiana\n",
    "print(\"Datos escalados, distancia Euclidiana\")\n",
    "print(get_knn(df_scaled, n, k, metric=\"euclidean\")) "
   ]
  },
  {
   "cell_type": "code",
   "execution_count": 20,
   "metadata": {},
   "outputs": [
    {
     "name": "stdout",
     "output_type": "stream",
     "text": [
      "Datos escalados, distancia Manhattan\n",
      "      gender       age    income  family_members  insurance_benefits  distance\n",
      "1        0.0  0.707692  0.481013        0.166667                   1  0.000000\n",
      "4162     0.0  0.707692  0.477215        0.166667                   1  0.003797\n",
      "1863     0.0  0.707692  0.492405        0.166667                   1  0.011392\n",
      "4986     0.0  0.723077  0.491139        0.166667                   1  0.025511\n",
      "2434     0.0  0.676923  0.482278        0.166667                   1  0.032035\n"
     ]
    }
   ],
   "source": [
    "n = 1 #ejemplo, el primer vecino \n",
    "k = 5 # número de vecinos a estudia\n",
    "#Combinación 4: Datos escalados, distanica Manhattan\n",
    "print(\"Datos escalados, distancia Manhattan\")\n",
    "print(get_knn(df_scaled, n, k, metric=\"manhattan\")) "
   ]
  },
  {
   "cell_type": "markdown",
   "metadata": {},
   "source": [
    "Respuestas a las preguntas"
   ]
  },
  {
   "cell_type": "markdown",
   "metadata": {},
   "source": [
    "**¿El hecho de que los datos no estén escalados afecta al algoritmo kNN? Si es así, ¿cómo se manifiesta?** \n",
    "\n",
    "Al no estar escalado afecta el algortimo de kNN. Esto es debido a que los datos que no estan escalados, como las características con valores en rangos más amplios tales como  *income* tienen un peso desporporcionado en los cálculos de la distancia. Esto podría ocasionar que los vecinos que son seleccionados no sean verdardermanete lo más cercanos en términos de la similutd. La ventaja de escalar los datos, todas las características contribuyen equitativamente al cálculo de la distancia. Lo que nos ayuda que el algoritmo de kNN trabaje de manera más justa y precisa. \n"
   ]
  },
  {
   "cell_type": "markdown",
   "metadata": {},
   "source": [
    "**¿Qué tan similares son los resultados al utilizar la métrica de distancia Manhattan (independientemente del escalado)?** \n",
    "La distancia Manhattan tiende a ser más robusta a diferencias extremas en una sola característica, ya que se basa en la suma de diferencias absolutas en lugar de la suma de los cuadrados de las diferencias (como la distancia Euclidiana). Esto significa que, aunque los resultados sean similares entre ambas métricas cuando los datos están bien distribuidos y sin valores atípicos, la métrica Manhattan podría dar resultados ligeramente diferentes en comparación con la Euclidiana.\n"
   ]
  },
  {
   "cell_type": "markdown",
   "metadata": {},
   "source": [
    "# Tarea 2. ¿Es probable que el cliente reciba una prestación del seguro?"
   ]
  },
  {
   "cell_type": "markdown",
   "metadata": {},
   "source": [
    "En términos de machine learning podemos considerarlo como una tarea de clasificación binaria."
   ]
  },
  {
   "cell_type": "markdown",
   "metadata": {},
   "source": [
    "Con el valor de `insurance_benefits` superior a cero como objetivo, evalúa si el enfoque de clasificación kNN puede funcionar mejor que el modelo dummy.\n",
    "Instrucciones:\n",
    "- Construye un clasificador basado en KNN y mide su calidad con la métrica F1 para k=1...10 tanto para los datos originales como para los escalados. Sería interesante observar cómo k puede influir en la métrica de evaluación y si el escalado de los datos provoca alguna diferencia. Puedes utilizar una implementación ya existente del algoritmo de clasificación kNN de scikit-learn (consulta [el enlace](https://scikit-learn.org/stable/modules/generated/sklearn.neighbors.KNeighborsClassifier.html)) o tu propia implementación.- Construye un modelo dummy que, en este caso, es simplemente un modelo aleatorio. Debería devolver \"1\" con cierta probabilidad. Probemos el modelo con cuatro valores de probabilidad: 0, la probabilidad de pagar cualquier prestación del seguro, 0.5, 1.\n",
    "La probabilidad de pagar cualquier prestación del seguro puede definirse como\n",
    "$$\n",
    "P\\{\\text{prestación de seguro recibida}\\}=\\frac{\\text{número de clientes que han recibido alguna prestación de seguro}}{\\text{número total de clientes}}.\n",
    "$$\n",
    "\n",
    "Divide todos los datos correspondientes a las etapas de entrenamiento/prueba respetando la proporción 70:30."
   ]
  },
  {
   "cell_type": "code",
   "execution_count": 21,
   "metadata": {},
   "outputs": [],
   "source": [
    "# сalcula el objetivo\n",
    "df['insurance_benefits_received'] = (df['insurance_benefits'] > 0)"
   ]
  },
  {
   "cell_type": "code",
   "execution_count": 22,
   "metadata": {},
   "outputs": [
    {
     "name": "stdout",
     "output_type": "stream",
     "text": [
      "Distribución de clases en los objetivos\n",
      "False    0.8872\n",
      "True     0.1128\n",
      "Name: insurance_benefits_received, dtype: float64\n"
     ]
    }
   ],
   "source": [
    "# comprueba el desequilibrio de clases con value_counts()\n",
    "# <tu código aquí>\n",
    "\n",
    "print(\"Distribución de clases en los objetivos\")\n",
    "print(df['insurance_benefits_received'].value_counts(normalize=True))"
   ]
  },
  {
   "cell_type": "markdown",
   "metadata": {},
   "source": [
    "Con esta inforamción que se logro sacar, se pudo observar que el `88.72%` de los clientes no reciben beneificios del seguro y que una minoría, o sea el `11.28%`, si cuenta con los beneficios. "
   ]
  },
  {
   "cell_type": "code",
   "execution_count": 23,
   "metadata": {},
   "outputs": [],
   "source": [
    "def eval_classifier(y_true, y_pred):\n",
    "    \n",
    "    f1_score = sklearn.metrics.f1_score(y_true, y_pred)\n",
    "    print(f'F1: {f1_score:.2f}')\n",
    "    \n",
    "# si tienes algún problema con la siguiente línea, reinicia el kernel y ejecuta el cuaderno de nuevo    \n",
    "    cm = sklearn.metrics.confusion_matrix(y_true, y_pred, normalize='all')\n",
    "    print('Matriz de confusión')\n",
    "    print(cm)"
   ]
  },
  {
   "cell_type": "code",
   "execution_count": 24,
   "metadata": {},
   "outputs": [],
   "source": [
    "# generar la salida de un modelo aleatorio\n",
    "\n",
    "def rnd_model_predict(P, size, seed=42):\n",
    "\n",
    "    rng = np.random.default_rng(seed=seed)\n",
    "    return rng.binomial(n=1, p=P, size=size)"
   ]
  },
  {
   "cell_type": "code",
   "execution_count": 25,
   "metadata": {},
   "outputs": [
    {
     "name": "stdout",
     "output_type": "stream",
     "text": [
      "La probabilidad: 0.00\n",
      "F1: 0.00\n",
      "Matriz de confusión\n",
      "[[0.8872 0.    ]\n",
      " [0.1128 0.    ]]\n",
      "\n",
      "La probabilidad: 0.11\n",
      "F1: 0.12\n",
      "Matriz de confusión\n",
      "[[0.7914 0.0958]\n",
      " [0.0994 0.0134]]\n",
      "\n",
      "La probabilidad: 0.50\n",
      "F1: 0.20\n",
      "Matriz de confusión\n",
      "[[0.456  0.4312]\n",
      " [0.053  0.0598]]\n",
      "\n",
      "La probabilidad: 1.00\n",
      "F1: 0.20\n",
      "Matriz de confusión\n",
      "[[0.     0.8872]\n",
      " [0.     0.1128]]\n",
      "\n"
     ]
    }
   ],
   "source": [
    "for P in [0, df['insurance_benefits_received'].sum() / len(df), 0.5, 1]:\n",
    "\n",
    "    print(f'La probabilidad: {P:.2f}')\n",
    "    y_pred_rnd = rnd_model_predict(P, size =len(df))\n",
    "        \n",
    "    eval_classifier(df['insurance_benefits_received'], y_pred_rnd)\n",
    "    \n",
    "    print()"
   ]
  },
  {
   "attachments": {
    "image.png": {
     "image/png": "[encoded data removed]"
    }
   },
   "cell_type": "markdown",
   "metadata": {},
   "source": [
    "![image.png](attachment:image.png)\n",
    "Figura 1. Matriz de confusión.  (Gomila, J. G, 2023) "
   ]
  },
  {
   "cell_type": "markdown",
   "metadata": {},
   "source": [
    "Con la Fig 1. es como funciona una matriz de confuión. De lo cual el siguiente análisis se pudo apreciar lo siguiente en los resultados obtenidos: \n",
    "\n",
    "1. En la `probabilidad 0.0` se ignoro los casos positivo y este logro obtener un F1 de **0** \n",
    "2. En la `probabilidad 0.11` se puede apreciar que comenzo a capturar algunos positivos y el F1 comienza a mejorar debidó a que este se logró el `0.12\n",
    "3. En la `probabilidad 0.50`se puede observar que casi se logra un equilibrio en los valores verdaderos positivos y falsos positivos, aunque se obtuvo un F1 de `0.20`este sigue siendo bajo pero moderado. \n",
    "4. Por ultimo, la `probabilidad de 1` Este modelo predice siempre 1, resultando en un F1 similar al modelo con probabilidad 0.50. Aunque clasifica correctamente a los clientes que reciben una prestación, comete muchos errores en los casos negativos. "
   ]
  },
  {
   "cell_type": "markdown",
   "metadata": {},
   "source": [
    "# Tarea 3. Regresión (con regresión lineal)"
   ]
  },
  {
   "cell_type": "markdown",
   "metadata": {},
   "source": [
    "Con `insurance_benefits` como objetivo, evalúa cuál sería la RECM de un modelo de regresión lineal."
   ]
  },
  {
   "cell_type": "markdown",
   "metadata": {},
   "source": [
    "Construye tu propia implementación de regresión lineal. Para ello, recuerda cómo está formulada la solución de la tarea de regresión lineal en términos de LA. Comprueba la RECM tanto para los datos originales como para los escalados. ¿Puedes ver alguna diferencia en la RECM con respecto a estos dos casos?\n",
    "\n",
    "Denotemos- $X$: matriz de características; cada fila es un caso, cada columna es una característica, la primera columna está formada por unidades- $y$ — objetivo (un vector)- $\\hat{y}$ — objetivo estimado (un vector)- $w$ — vector de pesos\n",
    "La tarea de regresión lineal en el lenguaje de las matrices puede formularse así:\n",
    "$$\n",
    "y = Xw\n",
    "$$\n",
    "\n",
    "El objetivo de entrenamiento es entonces encontrar esa $w$ w que minimice la distancia L2 (ECM) entre $Xw$ y $y$:\n",
    "\n",
    "$$\n",
    "\\min_w d_2(Xw, y) \\quad \\text{or} \\quad \\min_w \\text{MSE}(Xw, y)\n",
    "$$\n",
    "\n",
    "Parece que hay una solución analítica para lo anteriormente expuesto:\n",
    "$$\n",
    "w = (X^T X)^{-1} X^T y\n",
    "$$\n",
    "\n",
    "La fórmula anterior puede servir para encontrar los pesos $w$ y estos últimos pueden utilizarse para calcular los valores predichos\n",
    "$$\n",
    "\\hat{y} = X_{val}w\n",
    "$$"
   ]
  },
  {
   "cell_type": "markdown",
   "metadata": {},
   "source": [
    "Divide todos los datos correspondientes a las etapas de entrenamiento/prueba respetando la proporción 70:30. Utiliza la métrica RECM para evaluar el modelo."
   ]
  },
  {
   "cell_type": "code",
   "execution_count": 26,
   "metadata": {},
   "outputs": [],
   "source": [
    "class MyLinearRegression:\n",
    "    \n",
    "    def __init__(self):\n",
    "        \n",
    "        self.weights = None\n",
    "    \n",
    "    def fit(self, X, y):\n",
    "        \n",
    "        # añadir las unidades\n",
    "        X2 = np.append(np.ones([len(X), 1]), X, axis=1)\n",
    "        self.weights = np.linalg.inv(X2.T.dot(X2)).dot(X2.T).dot(y) \n",
    "        \n",
    "    def predict(self, X):\n",
    "        \n",
    "        # añadir las unidades\n",
    "        X2 = np.append(np.ones([len(X), 1]), X, axis=1)\n",
    "        y_pred = X2.dot(self.weights)\n",
    "        \n",
    "        return y_pred"
   ]
  },
  {
   "cell_type": "code",
   "execution_count": 27,
   "metadata": {},
   "outputs": [],
   "source": [
    "def eval_regressor(y_true, y_pred):\n",
    "    \n",
    "    rmse = (sklearn.metrics.mean_squared_error(y_true, y_pred)) ** 0.5\n",
    "    print(f'RMSE: {rmse:.2f}')\n",
    "    \n",
    "    r2_score = (sklearn.metrics.r2_score(y_true, y_pred)) ** 0.5\n",
    "    print(f'R2: {r2_score:.2f}')    "
   ]
  },
  {
   "cell_type": "code",
   "execution_count": null,
   "metadata": {},
   "outputs": [],
   "source": []
  },
  {
   "cell_type": "code",
   "execution_count": 28,
   "metadata": {},
   "outputs": [
    {
     "name": "stdout",
     "output_type": "stream",
     "text": [
      "[-9.43539012e-01  3.57495491e-02  1.64272726e-02 -2.60743659e-07\n",
      " -1.16902127e-02]\n",
      "RMSE: 0.34\n",
      "R2: 0.66\n"
     ]
    }
   ],
   "source": [
    "X = df[['age', 'gender', 'income', 'family_members']].to_numpy()\n",
    "y = df['insurance_benefits'].to_numpy()\n",
    "\n",
    "X_train, X_test, y_train, y_test = train_test_split(X, y, test_size=0.3, random_state=12345)\n",
    "\n",
    "lr = MyLinearRegression()\n",
    "\n",
    "lr.fit(X_train, y_train)\n",
    "print(lr.weights)\n",
    "\n",
    "y_test_pred = lr.predict(X_test)\n",
    "eval_regressor(y_test, y_test_pred)"
   ]
  },
  {
   "cell_type": "markdown",
   "metadata": {},
   "source": [
    "Con los valores obtenidos se puede llenar a la siguiente conclusión: \n",
    "1. El primer valor que se obtuvo de la matriz se puede conmsiderar como el intercepto. En este se llego a un valor de `-0.944` y este es el valor medio de `insurance_benefits`, \n",
    "2. En el coficiente de `age`se logró obtener un valor de `0.00357`. Dicho valor esta asociado con un aumento de ese valor en `insurance_benefits`en el caso de las que las variables se mantienen constante. \n",
    "3. En el coficiente de `gender` se logró un valor de `0.0164`. Esto nos indica que habrá cambios en la variable de `gender`con un aumento del valor que se obtuvo en `insurance_benefits` y asi manteniendo todas las constantes. \n",
    "4. En el caso de `income`se logró un valor de $-2.607^{-7}$ Lo que este sugiere que hay una poca relación entre ambas variables en el modelo. Esto se debe por que tiene un efecto minímo y negativo en `insurance_benefits`\n",
    "5. En el caso de `family_members`se puede llegar a concluir de que un aumento aquí este afectara y disminuye en `insurance_benefits`en 0.0117 \n",
    "6. En el valor del `RMSE` Las predicciones del modelo se desvían del valor real en alrededor de 0.34 unidades de insurance_benefits.\n",
    "7. En el $R^{2}$ Esta métrica sugiere que el modelo explica el 66% de la variabilidad de insurance_benefits en los datos.\n",
    "\n",
    "Con esto se puede llegar a concluir de que el modelo una buena parte de la relación entre las características y insurance_benefits, pero hay margen para mejorar el ajuste y la capacidad explicativa del modelo."
   ]
  },
  {
   "cell_type": "markdown",
   "metadata": {},
   "source": [
    "# Tarea 4. Ofuscar datos"
   ]
  },
  {
   "cell_type": "markdown",
   "metadata": {},
   "source": [
    "Lo mejor es ofuscar los datos multiplicando las características numéricas (recuerda que se pueden ver como la matriz $X$) por una matriz invertible $P$. \n",
    "\n",
    "$$\n",
    "X' = X \\times P\n",
    "$$\n",
    "\n",
    "Trata de hacerlo y comprueba cómo quedarán los valores de las características después de la transformación. Por cierto, la propiedad de invertibilidad es importante aquí, así que asegúrate de que $P$ sea realmente invertible.\n",
    "\n",
    "Puedes revisar la lección 'Matrices y operaciones matriciales -> Multiplicación de matrices' para recordar la regla de multiplicación de matrices y su implementación con NumPy."
   ]
  },
  {
   "cell_type": "code",
   "execution_count": 29,
   "metadata": {},
   "outputs": [],
   "source": [
    "personal_info_column_list = ['gender', 'age', 'income', 'family_members']\n",
    "df_pn = df[personal_info_column_list]"
   ]
  },
  {
   "cell_type": "code",
   "execution_count": 30,
   "metadata": {},
   "outputs": [],
   "source": [
    "X = df_pn.to_numpy()"
   ]
  },
  {
   "cell_type": "markdown",
   "metadata": {},
   "source": [
    "Generar una matriz aleatoria $P$."
   ]
  },
  {
   "cell_type": "code",
   "execution_count": 31,
   "metadata": {},
   "outputs": [],
   "source": [
    "rng = np.random.default_rng(seed=42)\n",
    "P = rng.random(size=(X.shape[1], X.shape[1]))"
   ]
  },
  {
   "cell_type": "markdown",
   "metadata": {},
   "source": [
    "Comprobar que la matriz P sea invertible"
   ]
  },
  {
   "cell_type": "code",
   "execution_count": 32,
   "metadata": {},
   "outputs": [
    {
     "name": "stdout",
     "output_type": "stream",
     "text": [
      "La matriz P es invertible\n",
      "El determinante de P: 0.24339135998015463\n"
     ]
    }
   ],
   "source": [
    " determinant = np.linalg.det(P)\n",
    "\n",
    "if  determinant !=0: \n",
    "    print(\"La matriz P es invertible\")\n",
    "else: \n",
    "    print(\"La mtriz P no es invertible\")\n",
    "\n",
    "print(\"El determinante de P:\",  determinant)"
   ]
  },
  {
   "cell_type": "markdown",
   "metadata": {},
   "source": [
    "Con el valor del determinante se puede observar que nuestra matriz si es posible invertir debido al valor que se obtuvo. "
   ]
  },
  {
   "cell_type": "markdown",
   "metadata": {},
   "source": [
    "¿Puedes adivinar la edad o los ingresos de los clientes después de la transformación?\n",
    "\n",
    "Con esto no sería posble deducir con el modelo ya que los valores originales de las  características tales como la edad o ingresos en X' debido a que esto e están “mezclados” por combinaciones lineales que ocultan la relación directa con cada característica."
   ]
  },
  {
   "cell_type": "markdown",
   "metadata": {},
   "source": [
    "¿Puedes recuperar los datos originales de $X'$ si conoces $P$? Intenta comprobarlo a través de los cálculos moviendo $P$ del lado derecho de la fórmula anterior al izquierdo. En este caso las reglas de la multiplicación matricial son realmente útiles"
   ]
  },
  {
   "cell_type": "code",
   "execution_count": 33,
   "metadata": {},
   "outputs": [
    {
     "name": "stdout",
     "output_type": "stream",
     "text": [
      "Datos originales X:\n",
      " [[1.00e+00 4.10e+01 4.96e+04 1.00e+00]\n",
      " [0.00e+00 4.60e+01 3.80e+04 1.00e+00]\n",
      " [0.00e+00 2.90e+01 2.10e+04 0.00e+00]]\n",
      "Datos recuperados X_recovered:\n",
      " [[ 1.00000000e+00  4.10000000e+01  4.96000000e+04  1.00000000e+00]\n",
      " [-4.47363596e-12  4.60000000e+01  3.80000000e+04  1.00000000e+00]\n",
      " [-2.51586878e-12  2.90000000e+01  2.10000000e+04  9.52452315e-13]]\n",
      "Datos transformados X':\n",
      " [[ 6359.71527314 22380.40467609 18424.09074184 46000.69669016]\n",
      " [ 4873.29406479 17160.36702982 14125.78076133 35253.45577301]\n",
      " [ 2693.11742928  9486.397744    7808.83156024 19484.86063067]]\n"
     ]
    }
   ],
   "source": [
    "X_dot = np.dot(X, P)\n",
    "\n",
    "# Recuperar los datos originales usando la inversa de P\n",
    "P_inv = np.linalg.inv(P)  #\n",
    "X_reco = np.dot(X_dot, P_inv )\n",
    "\n",
    "#Mostrar los 3 casos \n",
    "print(\"Datos originales X:\\n\", X[:3])          # Primeros 3 clientes\n",
    "print(\"Datos recuperados X_recovered:\\n\", X_reco[:3]) # Primeros 3 clientes recuperados\n",
    "print(\"Datos transformados X':\\n\", X_dot[:3]) # Primeros 3 clientes transformados"
   ]
  },
  {
   "cell_type": "markdown",
   "metadata": {},
   "source": [
    "Muestra los tres casos para algunos clientes- Datos originales\n",
    "- El que está transformado- El que está invertido (recuperado)"
   ]
  },
  {
   "cell_type": "markdown",
   "metadata": {},
   "source": [
    "Seguramente puedes ver que algunos valores no son exactamente iguales a los de los datos originales. ¿Cuál podría ser la razón de ello?"
   ]
  },
  {
   "cell_type": "markdown",
   "metadata": {},
   "source": [
    "Tal vez la razón  por la que hay un poco de diferencias de los datos originales y los que se recuperaron se ha por el redondeo. "
   ]
  },
  {
   "cell_type": "markdown",
   "metadata": {},
   "source": [
    "## Prueba de que la ofuscación de datos puede funcionar con regresión lineal"
   ]
  },
  {
   "cell_type": "markdown",
   "metadata": {},
   "source": [
    "En este proyecto la tarea de regresión se ha resuelto con la regresión lineal. Tu siguiente tarea es demostrar _analytically_ que el método de ofuscación no afectará a la regresión lineal en términos de valores predichos, es decir, que sus valores seguirán siendo los mismos. ¿Lo puedes creer? Pues no hace falta que lo creas, ¡tienes que que demostrarlo!"
   ]
  },
  {
   "cell_type": "markdown",
   "metadata": {},
   "source": [
    "Entonces, los datos están ofuscados y ahora tenemos $X \\times P$ en lugar de tener solo $X$. En consecuencia, hay otros pesos $w_P$ como\n",
    "$$\n",
    "w = (X^T X)^{-1} X^T y \\quad \\Rightarrow \\quad w_P = [(XP)^T XP]^{-1} (XP)^T y\n",
    "$$\n",
    "\n",
    "¿Cómo se relacionarían $w$ y $w_P$ si simplificáramos la fórmula de $w_P$ anterior? \n",
    "\n",
    "¿Cuáles serían los valores predichos con $w_P$? \n",
    "\n",
    "¿Qué significa esto para la calidad de la regresión lineal si esta se mide mediante la RECM?\n",
    "Revisa el Apéndice B Propiedades de las matrices al final del cuaderno. ¡Allí encontrarás fórmulas muy útiles!\n",
    "\n",
    "No es necesario escribir código en esta sección, basta con una explicación analítica."
   ]
  },
  {
   "cell_type": "markdown",
   "metadata": {},
   "source": [
    "**Respuesta**"
   ]
  },
  {
   "cell_type": "markdown",
   "metadata": {},
   "source": [
    "**1. La relación de  $w$ y $w_P$:**\n",
    "\n",
    "Se sabe que $X_P$ = $X \\times P$, en donde $P$ es una matriz transformada. Se podría reescribir $w_P$ de la siguiente manera:\n",
    "\n",
    "$$\n",
    "w_P = [(XP)^T XP]^{-1} (XP)^T y\n",
    "$$\n",
    "\n",
    "Ahora se expandera los términos: \n",
    "\n",
    "$$\n",
    "(X P) ^ {T} (X P) = P^{T} X^{T} XP\n",
    "$$\n",
    "\n",
    "$$\n",
    "(X P) ^ {T} y =   P^{T} X^{T} y\n",
    "$$\n",
    "\n",
    "Sabiendo esto, se prosigue a sustituir los valor en $w_P$ y la formula quedaría de la siguiente forma:\n",
    "$$\n",
    "w_P = (P^{T} X^{T} XP)^{-1} (P^{T} X^{T} y)\n",
    "$$\n",
    "\n",
    "Para poder simplicar más la formula, se utilizara el Ápendice B en el cual viene detallado las propiedades de las matirces y se utilizara este $(AB)^{-1} = B^{-1}A^{-1}$ si en el caso de ($A$ y $B$ son invertibles): \n",
    "\n",
    "$$\n",
    "w_P = P^{-1}(X^{T} X)^{-1} (P^{T})^{-1} (P^{T} X^{T} y)\n",
    "$$\n",
    "\n",
    "Sabiendo esto se puede simplificar debido a que la siguiente formula: \n",
    "$$\n",
    "w = (X^T X)^{-1} X^T\n",
    "$$\n",
    "\n",
    "Sabiendo eso, nuestra formula quedaría de la siguiente forma\n",
    "$$\n",
    "w_P = P^{-1}(X^{T} X)^{-1}  X^{T} y \\quad \\Rightarrow \\quad w_P = P^{-1} w\n",
    "$$\n",
    "\n",
    "Por ende, los coeficientes ajustados con los datos transformados $XP$ están relacionados con los originales por la transformación de $P^{-1}$\n",
    "\n",
    "**2. Valores predichos con $w_P$**\n",
    "\n",
    "Se utilizara la siguiente fórmula:\n",
    "$$\n",
    "\\hat{y}_P = (XP)w_P\n",
    "$$\n",
    "\n",
    "Dicha fórmula representa los valores predichos en un modelo de regresión lineal cuando los datos originales $X$ han sido transformados mediante una matriz $P$.\n",
    "\n",
    "Sabiendo la fórmula de $w_p$, este se sustituira en la fórmula y quedaría de la siguiente manera: \n",
    "$$\n",
    "\\hat{y}_P = (XP)P^{-1} w \\quad \\Rightarrow \\quad \\hat{y}_P = X(P P^{-1}) w\n",
    "$$\n",
    "Dando como resultado la siguiente fórmula \n",
    "$$\n",
    "\\hat{y}_P = Xw\n",
    "$$ \n",
    "\n",
    "Con esto podemos concluir que los valores predichos por $\\hat{y}_P$ son exactamente iguales a los valores predichos a los valores originales  $$\\hat{y}_P = Xw$$ . La transoformada de $P$ no afecta la predicción. \n",
    "\n",
    "**3. Calidad de la regresión medida mediante la RECM**\n",
    "\n",
    "La raíz del error cuadriatico medio, o también conocida como RECM, se calcula mediante la siguiente formula: \n",
    "\n",
    "$$\n",
    "RECM = \\sqrt{\\frac{1}{n}\\sum_{i=1}^{n} (y_i - \\hat{y}_i)^{2}}\n",
    "$$\n",
    "\n",
    "Dado que los valores predichos por $\\hat{y}_P$ son iguales a $\\hat{y}$, el RECM no se ve afecto y este no cambia. Por ende, la calidad de la regresión líneal, medida mediante el RECM. No se vera afecto por la transformación de $P$ "
   ]
  },
  {
   "cell_type": "markdown",
   "metadata": {},
   "source": [
    "En conclusión:\n",
    "1. $w_P$ está relacionado con $w$ mediante  $w_P = P^{-1} w$\n",
    "2. Los valores predichos no cambian, $\\hat{y}_P = \\hat{y}$ \n",
    "3. La calidad de la regresión (medida por RECM) permanece igual, ya que las predicciones son invariantes bajo la transformación."
   ]
  },
  {
   "cell_type": "markdown",
   "metadata": {},
   "source": [
    "**Prueba analítica**"
   ]
  },
  {
   "cell_type": "markdown",
   "metadata": {},
   "source": []
  },
  {
   "cell_type": "markdown",
   "metadata": {},
   "source": [
    "## Prueba de regresión lineal con ofuscación de datos"
   ]
  },
  {
   "cell_type": "markdown",
   "metadata": {},
   "source": [
    "Ahora, probemos que la regresión lineal pueda funcionar, en términos computacionales, con la transformación de ofuscación elegida.\n",
    "Construye un procedimiento o una clase que ejecute la regresión lineal opcionalmente con la ofuscación. Puedes usar una implementación de regresión lineal de scikit-learn o tu propia implementación.\n",
    "Ejecuta la regresión lineal para los datos originales y los ofuscados, compara los valores predichos y los valores de las métricas RMSE y $R^2$. ¿Hay alguna diferencia?"
   ]
  },
  {
   "cell_type": "markdown",
   "metadata": {},
   "source": [
    "**Procedimiento**\n",
    "\n",
    "- Crea una matriz cuadrada $P$ de números aleatorios.- Comprueba que sea invertible. Si no lo es, repite el primer paso hasta obtener una matriz invertible.- <¡ tu comentario aquí !>\n",
    "- Utiliza $XP$ como la nueva matriz de características"
   ]
  },
  {
   "cell_type": "code",
   "execution_count": 38,
   "metadata": {},
   "outputs": [
    {
     "name": "stdout",
     "output_type": "stream",
     "text": [
      "Matriz P es invertible. Determinante: 0.24339135998015463\n"
     ]
    }
   ],
   "source": [
    "# Paso 1: Generar la matriz de ofuscación P\n",
    "import numpy as np\n",
    "from numpy.linalg import det, inv\n",
    "from sklearn.linear_model import LinearRegression\n",
    "from sklearn.metrics import mean_squared_error, r2_score\n",
    "\n",
    "\n",
    "# 1. Generación de datos de ejemplo: \n",
    "\n",
    "np.random.seed(40)\n",
    "#Con la np.random.rad() se haran Valores aleatorios en una forma determinada.\n",
    "#https://numpy.org/doc/stable/reference/random/generated/numpy.random.rand.html \n",
    "X = np.random.rand(100,4) # Matriz de características en donde habrá 100 muestras y 4 características \n",
    "y = np.random.rand(100) #Valor objetivo \n",
    "\n",
    "#2. Creación de matriz cuadrada aleatoria de P y aswgurarse de que este invertible. \n",
    "def generate_invert_matrix(size, seed = 42):\n",
    "    rng = np.random.default_rng(seed=42)\n",
    "    P = rng.random(size=(size, size))\n",
    "    while det(P) == 0:\n",
    "        P = rng.random(size=(size, size))\n",
    "    return P\n",
    "    \n",
    "P = generate_invert_matrix(X.shape[1])\n",
    "print(\"Matriz P es invertible. Determinante:\", det(P))\n"
   ]
  },
  {
   "cell_type": "code",
   "execution_count": 39,
   "metadata": {},
   "outputs": [
    {
     "name": "stdout",
     "output_type": "stream",
     "text": [
      "Resultados:\n",
      "Datos originales: {'RMSE': 0.2950992437858726, 'R2': 0.025344619445486827}\n",
      "Datos ofuscados: {'RMSE': 0.29509924378587254, 'R2': 0.02534461944548705}\n"
     ]
    }
   ],
   "source": [
    "# Paso 2: Creación de clase para ejecutar la regresión lineal con y sin ofuscación\n",
    "class LinearRegressionWithObfuscation:\n",
    "    def __init__(self, X, y, P):\n",
    "        self.X = X  # Datos originales\n",
    "        self.y = y\n",
    "        self.P = P  # Matriz de ofuscación\n",
    "        self.model_original = LinearRegression()\n",
    "        self.model_obfuscated = LinearRegression()\n",
    "\n",
    "    def fit_and_evaluate(self):\n",
    "        # Ajuste en los datos originales\n",
    "        self.model_original.fit(self.X, self.y)\n",
    "        y_pred_original = self.model_original.predict(self.X)\n",
    "        rmse_original = mean_squared_error(self.y, y_pred_original, squared=False)\n",
    "        r2_original = r2_score(self.y, y_pred_original)\n",
    "\n",
    "        # Ajuste en los datos ofuscados\n",
    "        X_obfuscated = self.X @ self.P  # Transformar X usando la matriz de ofuscación P\n",
    "        self.model_obfuscated.fit(X_obfuscated, self.y)\n",
    "        y_pred_obfuscated = self.model_obfuscated.predict(X_obfuscated)\n",
    "        rmse_obfuscated = mean_squared_error(self.y, y_pred_obfuscated, squared=False)\n",
    "        r2_obfuscated = r2_score(self.y, y_pred_obfuscated)\n",
    "\n",
    "        # Resultados\n",
    "        results = {\n",
    "            \"Original\": {\"RMSE\": rmse_original, \"R2\": r2_original},\n",
    "            \"Obfuscated\": {\"RMSE\": rmse_obfuscated, \"R2\": r2_obfuscated},\n",
    "        }\n",
    "        return results, y_pred_original, y_pred_obfuscated\n",
    "\n",
    "# Crear una instancia de la clase y evaluar\n",
    "regression_test = LinearRegressionWithObfuscation(X, y, P)\n",
    "results, y_pred_original, y_pred_obfuscated = regression_test.fit_and_evaluate()\n",
    "\n",
    "print(\"Resultados:\")\n",
    "print(\"Datos originales:\", results[\"Original\"])\n",
    "print(\"Datos ofuscados:\", results[\"Obfuscated\"])"
   ]
  },
  {
   "cell_type": "markdown",
   "metadata": {},
   "source": [
    "# Conclusiones"
   ]
  },
  {
   "cell_type": "markdown",
   "metadata": {},
   "source": [
    "Como se pudo observar es que loos valores de RMSE son casi idénticos en tanto en los datos originales y en los ofuscados, lo que demuestra que la ofuscación de datos no afecta la precisión de las predicciones. El modelo ajustado a los datos ofuscados produce predicciones de la misma calidad que el modelo ajustado a los datos originales."
   ]
  },
  {
   "cell_type": "markdown",
   "metadata": {},
   "source": [
    "# Apéndices\n",
    "\n",
    "## Apéndice A: Escribir fórmulas en los cuadernos de Jupyter"
   ]
  },
  {
   "cell_type": "markdown",
   "metadata": {},
   "source": [
    "Puedes escribir fórmulas en tu Jupyter Notebook utilizando un lenguaje de marcado proporcionado por un sistema de publicación de alta calidad llamado $\\LaTeX$ (se pronuncia como \"Lah-tech\"). Las fórmulas se verán como las de los libros de texto.\n",
    "\n",
    "Para incorporar una fórmula a un texto, pon el signo de dólar (\\\\$) antes y después del texto de la fórmula, por ejemplo: $\\frac{1}{2} \\times \\frac{3}{2} = \\frac{3}{4}$ or $y = x^2, x \\ge 1$.\n",
    "\n",
    "Si una fórmula debe estar en el mismo párrafo, pon el doble signo de dólar (\\\\$\\\\$) antes y después del texto de la fórmula, por ejemplo:\n",
    "$$\n",
    "\\bar{x} = \\frac{1}{n}\\sum_{i=1}^{n} x_i.\n",
    "$$\n",
    "\n",
    "El lenguaje de marcado de [LaTeX](https://es.wikipedia.org/wiki/LaTeX) es muy popular entre las personas que utilizan fórmulas en sus artículos, libros y textos. Puede resultar complicado, pero sus fundamentos son sencillos. Consulta esta [ficha de ayuda](http://tug.ctan.org/info/undergradmath/undergradmath.pdf) (materiales en inglés) de dos páginas para aprender a componer las fórmulas más comunes."
   ]
  },
  {
   "cell_type": "markdown",
   "metadata": {},
   "source": [
    "## Apéndice B: Propiedades de las matrices"
   ]
  },
  {
   "cell_type": "markdown",
   "metadata": {},
   "source": [
    "Las matrices tienen muchas propiedades en cuanto al álgebra lineal. Aquí se enumeran algunas de ellas que pueden ayudarte a la hora de realizar la prueba analítica de este proyecto."
   ]
  },
  {
   "cell_type": "markdown",
   "metadata": {},
   "source": [
    "<table>\n",
    "<tr>\n",
    "<td>Distributividad</td><td>$A(B+C)=AB+AC$</td>\n",
    "</tr>\n",
    "<tr>\n",
    "<td>No conmutatividad</td><td>$AB \\neq BA$</td>\n",
    "</tr>\n",
    "<tr>\n",
    "<td>Propiedad asociativa de la multiplicación</td><td>$(AB)C = A(BC)$</td>\n",
    "</tr>\n",
    "<tr>\n",
    "<td>Propiedad de identidad multiplicativa</td><td>$IA = AI = A$</td>\n",
    "</tr>\n",
    "<tr>\n",
    "<td></td><td>$A^{-1}A = AA^{-1} = I$\n",
    "</td>\n",
    "</tr>    \n",
    "<tr>\n",
    "<td></td><td>$(AB)^{-1} = B^{-1}A^{-1}$</td>\n",
    "</tr>    \n",
    "<tr>\n",
    "<td>Reversibilidad de la transposición de un producto de matrices,</td><td>$(AB)^T = B^TA^T$</td>\n",
    "</tr>    \n",
    "</table>"
   ]
  },
  {
   "cell_type": "markdown",
   "metadata": {},
   "source": [
    "**REFERENCIAS** \n",
    "\n",
    "Gomila, J. G. (2023, Marzo 08). Matriz de confusión en Machine Learning. Frogames. https://cursos.frogamesformacion.com/pages/blog/matriz-de-confusion"
   ]
  },
  {
   "cell_type": "code",
   "execution_count": null,
   "metadata": {},
   "outputs": [],
   "source": []
  }
 ],
 "metadata": {
  "ExecuteTimeLog": [
   {
    "duration": 2335,
    "start_time": "2024-11-07T18:55:32.316Z"
   },
   {
    "duration": 2668,
    "start_time": "2024-11-07T18:55:34.654Z"
   },
   {
    "duration": 2085,
    "start_time": "2024-11-07T18:55:50.487Z"
   },
   {
    "duration": 939,
    "start_time": "2024-11-07T18:55:52.574Z"
   },
   {
    "duration": 10,
    "start_time": "2024-11-07T18:55:53.515Z"
   },
   {
    "duration": 4,
    "start_time": "2024-11-07T18:55:54.928Z"
   },
   {
    "duration": 11,
    "start_time": "2024-11-07T18:55:56.161Z"
   },
   {
    "duration": 10,
    "start_time": "2024-11-07T18:55:59.667Z"
   },
   {
    "duration": 3,
    "start_time": "2024-11-07T18:58:44.961Z"
   },
   {
    "duration": 7,
    "start_time": "2024-11-07T19:00:59.534Z"
   },
   {
    "duration": 17,
    "start_time": "2024-11-07T19:01:14.091Z"
   },
   {
    "duration": 8,
    "start_time": "2024-11-07T19:01:45.706Z"
   },
   {
    "duration": 6,
    "start_time": "2024-11-07T19:04:56.623Z"
   },
   {
    "duration": 6,
    "start_time": "2024-11-07T19:06:26.213Z"
   },
   {
    "duration": 5,
    "start_time": "2024-11-07T19:06:31.716Z"
   },
   {
    "duration": 4,
    "start_time": "2024-11-07T19:10:04.623Z"
   },
   {
    "duration": 5,
    "start_time": "2024-11-07T19:10:12.584Z"
   },
   {
    "duration": 3,
    "start_time": "2024-11-07T19:18:07.436Z"
   },
   {
    "duration": 6,
    "start_time": "2024-11-07T19:18:08.318Z"
   },
   {
    "duration": 3,
    "start_time": "2024-11-07T19:31:09.674Z"
   },
   {
    "duration": 9,
    "start_time": "2024-11-07T19:31:21.504Z"
   },
   {
    "duration": 8,
    "start_time": "2024-11-07T19:31:23.917Z"
   },
   {
    "duration": 240,
    "start_time": "2024-11-07T19:35:55.647Z"
   },
   {
    "duration": 3,
    "start_time": "2024-11-07T19:37:14.223Z"
   },
   {
    "duration": 123,
    "start_time": "2024-11-07T19:37:29.747Z"
   },
   {
    "duration": 6,
    "start_time": "2024-11-07T19:50:32.729Z"
   },
   {
    "duration": 4,
    "start_time": "2024-11-07T19:50:38.571Z"
   },
   {
    "duration": 3,
    "start_time": "2024-11-07T19:50:46.601Z"
   },
   {
    "duration": 4,
    "start_time": "2024-11-07T19:51:39.437Z"
   },
   {
    "duration": 4,
    "start_time": "2024-11-07T19:52:14.872Z"
   },
   {
    "duration": 12,
    "start_time": "2024-11-07T19:52:22.724Z"
   },
   {
    "duration": 13,
    "start_time": "2024-11-07T19:55:27.811Z"
   },
   {
    "duration": 11,
    "start_time": "2024-11-07T19:58:15.652Z"
   },
   {
    "duration": 10,
    "start_time": "2024-11-07T19:58:22.143Z"
   },
   {
    "duration": 19,
    "start_time": "2024-11-07T20:00:26.115Z"
   },
   {
    "duration": 21,
    "start_time": "2024-11-07T20:04:49.283Z"
   },
   {
    "duration": 23,
    "start_time": "2024-11-07T20:05:19.473Z"
   },
   {
    "duration": 19,
    "start_time": "2024-11-07T20:05:31.676Z"
   },
   {
    "duration": 18,
    "start_time": "2024-11-07T20:05:35.393Z"
   },
   {
    "duration": 4,
    "start_time": "2024-11-07T20:17:45.148Z"
   },
   {
    "duration": 10,
    "start_time": "2024-11-07T20:17:46.465Z"
   },
   {
    "duration": 8,
    "start_time": "2024-11-07T20:17:46.994Z"
   },
   {
    "duration": 11,
    "start_time": "2024-11-07T20:17:47.973Z"
   },
   {
    "duration": 11,
    "start_time": "2024-11-07T20:17:48.339Z"
   },
   {
    "duration": 48,
    "start_time": "2024-11-07T20:17:48.763Z"
   },
   {
    "duration": 23,
    "start_time": "2024-11-07T20:18:07.824Z"
   },
   {
    "duration": 19,
    "start_time": "2024-11-07T20:18:10.236Z"
   },
   {
    "duration": 2172,
    "start_time": "2024-11-07T20:35:57.953Z"
   },
   {
    "duration": 997,
    "start_time": "2024-11-07T20:36:00.128Z"
   },
   {
    "duration": 9,
    "start_time": "2024-11-07T20:36:01.127Z"
   },
   {
    "duration": 3,
    "start_time": "2024-11-07T20:36:01.137Z"
   },
   {
    "duration": 10,
    "start_time": "2024-11-07T20:36:01.142Z"
   },
   {
    "duration": 8,
    "start_time": "2024-11-07T20:36:01.154Z"
   },
   {
    "duration": 3,
    "start_time": "2024-11-07T20:36:01.164Z"
   },
   {
    "duration": 3,
    "start_time": "2024-11-07T20:36:01.169Z"
   },
   {
    "duration": 37,
    "start_time": "2024-11-07T20:36:01.174Z"
   },
   {
    "duration": 2,
    "start_time": "2024-11-07T20:36:01.213Z"
   },
   {
    "duration": 4,
    "start_time": "2024-11-07T20:36:01.217Z"
   },
   {
    "duration": 2511,
    "start_time": "2024-11-07T20:36:01.222Z"
   },
   {
    "duration": 3,
    "start_time": "2024-11-07T20:36:03.736Z"
   },
   {
    "duration": 4,
    "start_time": "2024-11-07T20:36:03.743Z"
   },
   {
    "duration": 9,
    "start_time": "2024-11-07T20:36:03.749Z"
   },
   {
    "duration": 8,
    "start_time": "2024-11-07T20:36:03.759Z"
   },
   {
    "duration": 12,
    "start_time": "2024-11-07T20:36:03.768Z"
   },
   {
    "duration": 10,
    "start_time": "2024-11-07T20:36:03.782Z"
   },
   {
    "duration": 18,
    "start_time": "2024-11-07T20:36:03.810Z"
   },
   {
    "duration": 18,
    "start_time": "2024-11-07T20:36:03.829Z"
   },
   {
    "duration": 4,
    "start_time": "2024-11-07T20:36:03.848Z"
   },
   {
    "duration": 0,
    "start_time": "2024-11-07T20:36:03.853Z"
   },
   {
    "duration": 0,
    "start_time": "2024-11-07T20:36:03.854Z"
   },
   {
    "duration": 0,
    "start_time": "2024-11-07T20:36:03.856Z"
   },
   {
    "duration": 0,
    "start_time": "2024-11-07T20:36:03.856Z"
   },
   {
    "duration": 0,
    "start_time": "2024-11-07T20:36:03.857Z"
   },
   {
    "duration": 0,
    "start_time": "2024-11-07T20:36:03.858Z"
   },
   {
    "duration": 0,
    "start_time": "2024-11-07T20:36:03.860Z"
   },
   {
    "duration": 0,
    "start_time": "2024-11-07T20:36:03.861Z"
   },
   {
    "duration": 0,
    "start_time": "2024-11-07T20:36:03.863Z"
   },
   {
    "duration": 0,
    "start_time": "2024-11-07T20:36:03.864Z"
   },
   {
    "duration": 11,
    "start_time": "2024-11-07T20:39:15.556Z"
   },
   {
    "duration": 10,
    "start_time": "2024-11-07T20:39:15.847Z"
   },
   {
    "duration": 18,
    "start_time": "2024-11-07T20:39:16.228Z"
   },
   {
    "duration": 19,
    "start_time": "2024-11-07T20:39:16.847Z"
   },
   {
    "duration": 160,
    "start_time": "2024-11-07T21:17:26.516Z"
   },
   {
    "duration": 2099,
    "start_time": "2024-11-07T21:17:54.632Z"
   },
   {
    "duration": 1010,
    "start_time": "2024-11-07T21:17:56.734Z"
   },
   {
    "duration": 9,
    "start_time": "2024-11-07T21:17:57.746Z"
   },
   {
    "duration": 3,
    "start_time": "2024-11-07T21:17:57.758Z"
   },
   {
    "duration": 13,
    "start_time": "2024-11-07T21:17:57.763Z"
   },
   {
    "duration": 9,
    "start_time": "2024-11-07T21:17:57.778Z"
   },
   {
    "duration": 20,
    "start_time": "2024-11-07T21:17:57.789Z"
   },
   {
    "duration": 2,
    "start_time": "2024-11-07T21:17:57.811Z"
   },
   {
    "duration": 10,
    "start_time": "2024-11-07T21:17:57.815Z"
   },
   {
    "duration": 2,
    "start_time": "2024-11-07T21:17:57.830Z"
   },
   {
    "duration": 8,
    "start_time": "2024-11-07T21:17:57.833Z"
   },
   {
    "duration": 2587,
    "start_time": "2024-11-07T21:17:57.843Z"
   },
   {
    "duration": 3,
    "start_time": "2024-11-07T21:18:00.432Z"
   },
   {
    "duration": 3,
    "start_time": "2024-11-07T21:18:00.437Z"
   },
   {
    "duration": 8,
    "start_time": "2024-11-07T21:18:00.442Z"
   },
   {
    "duration": 8,
    "start_time": "2024-11-07T21:18:00.452Z"
   },
   {
    "duration": 10,
    "start_time": "2024-11-07T21:18:00.462Z"
   },
   {
    "duration": 10,
    "start_time": "2024-11-07T21:18:00.473Z"
   },
   {
    "duration": 34,
    "start_time": "2024-11-07T21:18:00.485Z"
   },
   {
    "duration": 18,
    "start_time": "2024-11-07T21:18:00.521Z"
   },
   {
    "duration": 3,
    "start_time": "2024-11-07T21:18:00.541Z"
   },
   {
    "duration": 3,
    "start_time": "2024-11-07T21:18:00.545Z"
   },
   {
    "duration": 4,
    "start_time": "2024-11-07T21:18:00.549Z"
   },
   {
    "duration": 3,
    "start_time": "2024-11-07T21:18:00.554Z"
   },
   {
    "duration": 4,
    "start_time": "2024-11-07T21:18:00.559Z"
   },
   {
    "duration": 0,
    "start_time": "2024-11-07T21:18:00.565Z"
   },
   {
    "duration": 0,
    "start_time": "2024-11-07T21:18:00.566Z"
   },
   {
    "duration": 0,
    "start_time": "2024-11-07T21:18:00.568Z"
   },
   {
    "duration": 0,
    "start_time": "2024-11-07T21:18:00.608Z"
   },
   {
    "duration": 0,
    "start_time": "2024-11-07T21:18:00.609Z"
   },
   {
    "duration": 0,
    "start_time": "2024-11-07T21:18:00.610Z"
   },
   {
    "duration": 4,
    "start_time": "2024-11-07T21:19:56.644Z"
   },
   {
    "duration": 5,
    "start_time": "2024-11-07T21:20:12.853Z"
   },
   {
    "duration": 5,
    "start_time": "2024-11-07T21:20:35.488Z"
   },
   {
    "duration": 3,
    "start_time": "2024-11-07T21:25:28.768Z"
   },
   {
    "duration": 2,
    "start_time": "2024-11-07T21:25:42.402Z"
   },
   {
    "duration": 45,
    "start_time": "2024-11-07T21:28:29.598Z"
   },
   {
    "duration": 3,
    "start_time": "2024-11-07T21:50:54.950Z"
   },
   {
    "duration": 3,
    "start_time": "2024-11-07T21:50:56.432Z"
   },
   {
    "duration": 376,
    "start_time": "2024-11-07T21:51:01.837Z"
   },
   {
    "duration": 91,
    "start_time": "2024-11-07T21:52:07.627Z"
   },
   {
    "duration": 4,
    "start_time": "2024-11-07T21:52:11.777Z"
   },
   {
    "duration": 3,
    "start_time": "2024-11-07T21:52:12.152Z"
   },
   {
    "duration": 24,
    "start_time": "2024-11-07T21:52:13.121Z"
   },
   {
    "duration": 4,
    "start_time": "2024-11-07T21:52:24.490Z"
   },
   {
    "duration": 3,
    "start_time": "2024-11-07T21:52:24.731Z"
   },
   {
    "duration": 67,
    "start_time": "2024-11-07T21:52:25.043Z"
   },
   {
    "duration": 4,
    "start_time": "2024-11-07T21:55:57.162Z"
   },
   {
    "duration": 3,
    "start_time": "2024-11-07T21:55:57.449Z"
   },
   {
    "duration": 56,
    "start_time": "2024-11-07T21:55:58.384Z"
   },
   {
    "duration": 3,
    "start_time": "2024-11-07T22:00:10.449Z"
   },
   {
    "duration": 6,
    "start_time": "2024-11-07T22:00:12.610Z"
   },
   {
    "duration": 2587,
    "start_time": "2024-11-10T17:55:27.725Z"
   },
   {
    "duration": 2840,
    "start_time": "2024-11-10T17:55:30.315Z"
   },
   {
    "duration": 23,
    "start_time": "2024-11-10T17:55:33.158Z"
   },
   {
    "duration": 9,
    "start_time": "2024-11-10T17:55:33.184Z"
   },
   {
    "duration": 19,
    "start_time": "2024-11-10T17:55:33.195Z"
   },
   {
    "duration": 11,
    "start_time": "2024-11-10T17:55:33.215Z"
   },
   {
    "duration": 3,
    "start_time": "2024-11-10T17:55:33.228Z"
   },
   {
    "duration": 3,
    "start_time": "2024-11-10T17:55:33.233Z"
   },
   {
    "duration": 8,
    "start_time": "2024-11-10T17:55:33.238Z"
   },
   {
    "duration": 3,
    "start_time": "2024-11-10T17:55:33.249Z"
   },
   {
    "duration": 5,
    "start_time": "2024-11-10T17:55:33.254Z"
   },
   {
    "duration": 2624,
    "start_time": "2024-11-10T17:55:33.287Z"
   },
   {
    "duration": 2,
    "start_time": "2024-11-10T17:55:35.913Z"
   },
   {
    "duration": 4,
    "start_time": "2024-11-10T17:55:35.917Z"
   },
   {
    "duration": 9,
    "start_time": "2024-11-10T17:55:35.922Z"
   },
   {
    "duration": 8,
    "start_time": "2024-11-10T17:55:35.932Z"
   },
   {
    "duration": 15,
    "start_time": "2024-11-10T17:55:36.584Z"
   },
   {
    "duration": 15,
    "start_time": "2024-11-10T17:55:36.898Z"
   },
   {
    "duration": 20,
    "start_time": "2024-11-10T17:55:37.278Z"
   },
   {
    "duration": 19,
    "start_time": "2024-11-10T17:55:38.060Z"
   },
   {
    "duration": 3,
    "start_time": "2024-11-10T17:55:42.173Z"
   },
   {
    "duration": 5,
    "start_time": "2024-11-10T17:55:45.476Z"
   },
   {
    "duration": 3,
    "start_time": "2024-11-10T17:55:52.214Z"
   },
   {
    "duration": 3,
    "start_time": "2024-11-10T17:55:54.543Z"
   },
   {
    "duration": 46,
    "start_time": "2024-11-10T17:55:56.384Z"
   },
   {
    "duration": 5,
    "start_time": "2024-11-10T18:17:28.810Z"
   },
   {
    "duration": 2,
    "start_time": "2024-11-10T18:17:29.769Z"
   },
   {
    "duration": 13,
    "start_time": "2024-11-10T18:17:32.013Z"
   },
   {
    "duration": 3,
    "start_time": "2024-11-10T18:40:07.891Z"
   },
   {
    "duration": 3,
    "start_time": "2024-11-10T18:40:08.938Z"
   },
   {
    "duration": 3,
    "start_time": "2024-11-10T18:40:10.906Z"
   },
   {
    "duration": 4,
    "start_time": "2024-11-10T18:50:43.287Z"
   },
   {
    "duration": 8,
    "start_time": "2024-11-12T17:40:54.595Z"
   },
   {
    "duration": 2734,
    "start_time": "2024-11-12T17:41:01.792Z"
   },
   {
    "duration": 3333,
    "start_time": "2024-11-12T17:41:04.529Z"
   },
   {
    "duration": 30,
    "start_time": "2024-11-12T17:41:07.863Z"
   },
   {
    "duration": 3,
    "start_time": "2024-11-12T17:41:07.895Z"
   },
   {
    "duration": 11,
    "start_time": "2024-11-12T17:41:07.901Z"
   },
   {
    "duration": 10,
    "start_time": "2024-11-12T17:41:07.914Z"
   },
   {
    "duration": 5,
    "start_time": "2024-11-12T17:41:07.926Z"
   },
   {
    "duration": 2,
    "start_time": "2024-11-12T17:41:07.934Z"
   },
   {
    "duration": 9,
    "start_time": "2024-11-12T17:41:07.938Z"
   },
   {
    "duration": 29,
    "start_time": "2024-11-12T17:41:07.949Z"
   },
   {
    "duration": 10,
    "start_time": "2024-11-12T17:41:07.980Z"
   },
   {
    "duration": 2944,
    "start_time": "2024-11-12T17:41:07.991Z"
   },
   {
    "duration": 3,
    "start_time": "2024-11-12T17:41:10.938Z"
   },
   {
    "duration": 10,
    "start_time": "2024-11-12T17:41:10.944Z"
   },
   {
    "duration": 24,
    "start_time": "2024-11-12T17:41:10.966Z"
   },
   {
    "duration": 9,
    "start_time": "2024-11-12T17:41:10.993Z"
   },
   {
    "duration": 12,
    "start_time": "2024-11-12T17:41:11.004Z"
   },
   {
    "duration": 11,
    "start_time": "2024-11-12T17:41:11.018Z"
   },
   {
    "duration": 43,
    "start_time": "2024-11-12T17:41:11.032Z"
   },
   {
    "duration": 29,
    "start_time": "2024-11-12T17:41:11.077Z"
   },
   {
    "duration": 5,
    "start_time": "2024-11-12T17:41:11.108Z"
   },
   {
    "duration": 5,
    "start_time": "2024-11-12T17:41:11.114Z"
   },
   {
    "duration": 5,
    "start_time": "2024-11-12T17:41:11.121Z"
   },
   {
    "duration": 3,
    "start_time": "2024-11-12T17:41:11.128Z"
   },
   {
    "duration": 87,
    "start_time": "2024-11-12T17:41:11.133Z"
   },
   {
    "duration": 4,
    "start_time": "2024-11-12T17:41:11.223Z"
   },
   {
    "duration": 6,
    "start_time": "2024-11-12T17:41:11.228Z"
   },
   {
    "duration": 29,
    "start_time": "2024-11-12T17:41:11.236Z"
   },
   {
    "duration": 6,
    "start_time": "2024-11-12T17:41:11.270Z"
   },
   {
    "duration": 3,
    "start_time": "2024-11-12T17:41:11.282Z"
   },
   {
    "duration": 65,
    "start_time": "2024-11-12T17:41:11.295Z"
   },
   {
    "duration": 3,
    "start_time": "2024-11-12T17:41:11.362Z"
   },
   {
    "duration": 5,
    "start_time": "2024-11-12T17:41:11.367Z"
   },
   {
    "duration": 21,
    "start_time": "2024-11-12T17:42:34.667Z"
   },
   {
    "duration": 11,
    "start_time": "2024-11-12T17:42:42.901Z"
   },
   {
    "duration": 567,
    "start_time": "2024-11-12T17:43:30.755Z"
   },
   {
    "duration": 84,
    "start_time": "2024-11-12T17:45:07.475Z"
   },
   {
    "duration": 12,
    "start_time": "2024-11-12T17:45:16.555Z"
   },
   {
    "duration": 5,
    "start_time": "2024-11-12T17:57:34.509Z"
   },
   {
    "duration": 11,
    "start_time": "2024-11-12T17:57:40.939Z"
   },
   {
    "duration": 4,
    "start_time": "2024-11-12T18:09:47.416Z"
   },
   {
    "duration": 5,
    "start_time": "2024-11-12T18:14:09.169Z"
   },
   {
    "duration": 6,
    "start_time": "2024-11-12T18:14:28.019Z"
   },
   {
    "duration": 2349,
    "start_time": "2024-11-12T18:14:42.409Z"
   },
   {
    "duration": 1056,
    "start_time": "2024-11-12T18:14:44.763Z"
   },
   {
    "duration": 10,
    "start_time": "2024-11-12T18:14:45.820Z"
   },
   {
    "duration": 12,
    "start_time": "2024-11-12T18:14:45.835Z"
   },
   {
    "duration": 12,
    "start_time": "2024-11-12T18:14:45.851Z"
   },
   {
    "duration": 9,
    "start_time": "2024-11-12T18:14:45.865Z"
   },
   {
    "duration": 3,
    "start_time": "2024-11-12T18:14:45.876Z"
   },
   {
    "duration": 2,
    "start_time": "2024-11-12T18:14:45.883Z"
   },
   {
    "duration": 10,
    "start_time": "2024-11-12T18:14:45.887Z"
   },
   {
    "duration": 2,
    "start_time": "2024-11-12T18:14:45.900Z"
   },
   {
    "duration": 5,
    "start_time": "2024-11-12T18:14:45.904Z"
   },
   {
    "duration": 2800,
    "start_time": "2024-11-12T18:14:45.911Z"
   },
   {
    "duration": 3,
    "start_time": "2024-11-12T18:14:48.713Z"
   },
   {
    "duration": 4,
    "start_time": "2024-11-12T18:14:48.718Z"
   },
   {
    "duration": 9,
    "start_time": "2024-11-12T18:14:48.724Z"
   },
   {
    "duration": 19,
    "start_time": "2024-11-12T18:14:48.735Z"
   },
   {
    "duration": 12,
    "start_time": "2024-11-12T18:14:48.771Z"
   },
   {
    "duration": 12,
    "start_time": "2024-11-12T18:14:48.785Z"
   },
   {
    "duration": 21,
    "start_time": "2024-11-12T18:14:48.799Z"
   },
   {
    "duration": 44,
    "start_time": "2024-11-12T18:14:48.822Z"
   },
   {
    "duration": 8,
    "start_time": "2024-11-12T18:14:48.868Z"
   },
   {
    "duration": 12,
    "start_time": "2024-11-12T18:14:48.878Z"
   },
   {
    "duration": 4,
    "start_time": "2024-11-12T18:14:48.892Z"
   },
   {
    "duration": 3,
    "start_time": "2024-11-12T18:14:48.898Z"
   },
   {
    "duration": 68,
    "start_time": "2024-11-12T18:14:48.903Z"
   },
   {
    "duration": 5,
    "start_time": "2024-11-12T18:14:48.973Z"
   },
   {
    "duration": 5,
    "start_time": "2024-11-12T18:14:48.980Z"
   },
   {
    "duration": 10,
    "start_time": "2024-11-12T18:14:48.989Z"
   },
   {
    "duration": 3,
    "start_time": "2024-11-12T18:14:49.001Z"
   },
   {
    "duration": 4,
    "start_time": "2024-11-12T18:14:49.046Z"
   },
   {
    "duration": 7,
    "start_time": "2024-11-12T18:14:49.055Z"
   },
   {
    "duration": 10,
    "start_time": "2024-11-12T18:14:49.064Z"
   },
   {
    "duration": 11,
    "start_time": "2024-11-12T18:14:49.076Z"
   },
   {
    "duration": 893,
    "start_time": "2024-11-17T20:16:16.844Z"
   },
   {
    "duration": 2451,
    "start_time": "2024-11-17T20:16:23.925Z"
   },
   {
    "duration": 2836,
    "start_time": "2024-11-17T20:16:26.378Z"
   },
   {
    "duration": 10,
    "start_time": "2024-11-17T20:16:29.216Z"
   },
   {
    "duration": 3,
    "start_time": "2024-11-17T20:16:29.228Z"
   },
   {
    "duration": 10,
    "start_time": "2024-11-17T20:16:29.234Z"
   },
   {
    "duration": 9,
    "start_time": "2024-11-17T20:16:29.245Z"
   },
   {
    "duration": 3,
    "start_time": "2024-11-17T20:16:29.256Z"
   },
   {
    "duration": 3,
    "start_time": "2024-11-17T20:16:29.261Z"
   },
   {
    "duration": 8,
    "start_time": "2024-11-17T20:16:29.265Z"
   },
   {
    "duration": 37,
    "start_time": "2024-11-17T20:16:29.275Z"
   },
   {
    "duration": 5,
    "start_time": "2024-11-17T20:16:29.315Z"
   },
   {
    "duration": 2630,
    "start_time": "2024-11-17T20:16:29.322Z"
   },
   {
    "duration": 2,
    "start_time": "2024-11-17T20:16:31.954Z"
   },
   {
    "duration": 3,
    "start_time": "2024-11-17T20:16:31.961Z"
   },
   {
    "duration": 100,
    "start_time": "2024-11-17T20:16:31.966Z"
   },
   {
    "duration": 8,
    "start_time": "2024-11-17T20:16:32.068Z"
   },
   {
    "duration": 11,
    "start_time": "2024-11-17T20:16:32.078Z"
   },
   {
    "duration": 29,
    "start_time": "2024-11-17T20:16:32.091Z"
   },
   {
    "duration": 18,
    "start_time": "2024-11-17T20:16:32.122Z"
   },
   {
    "duration": 21,
    "start_time": "2024-11-17T20:16:32.142Z"
   },
   {
    "duration": 4,
    "start_time": "2024-11-17T20:16:32.164Z"
   },
   {
    "duration": 5,
    "start_time": "2024-11-17T20:16:32.169Z"
   },
   {
    "duration": 4,
    "start_time": "2024-11-17T20:16:32.175Z"
   },
   {
    "duration": 2,
    "start_time": "2024-11-17T20:16:32.213Z"
   },
   {
    "duration": 43,
    "start_time": "2024-11-17T20:16:32.218Z"
   },
   {
    "duration": 4,
    "start_time": "2024-11-17T20:16:32.263Z"
   },
   {
    "duration": 3,
    "start_time": "2024-11-17T20:16:32.268Z"
   },
   {
    "duration": 44,
    "start_time": "2024-11-17T20:16:32.273Z"
   },
   {
    "duration": 4,
    "start_time": "2024-11-17T20:16:32.318Z"
   },
   {
    "duration": 3,
    "start_time": "2024-11-17T20:16:32.324Z"
   },
   {
    "duration": 4,
    "start_time": "2024-11-17T20:16:32.328Z"
   },
   {
    "duration": 4,
    "start_time": "2024-11-17T20:16:32.333Z"
   },
   {
    "duration": 7,
    "start_time": "2024-11-17T20:16:32.413Z"
   },
   {
    "duration": 331,
    "start_time": "2024-11-17T20:16:32.422Z"
   },
   {
    "duration": 83,
    "start_time": "2024-11-17T20:17:00.495Z"
   },
   {
    "duration": 5,
    "start_time": "2024-11-17T20:17:27.378Z"
   },
   {
    "duration": 141,
    "start_time": "2024-11-17T20:19:13.720Z"
   },
   {
    "duration": 5,
    "start_time": "2024-11-17T20:20:43.061Z"
   },
   {
    "duration": 8,
    "start_time": "2024-11-17T20:20:43.353Z"
   }
  ],
  "kernelspec": {
   "display_name": "Python 3 (ipykernel)",
   "language": "python",
   "name": "python3"
  },
  "language_info": {
   "codemirror_mode": {
    "name": "ipython",
    "version": 3
   },
   "file_extension": ".py",
   "mimetype": "text/x-python",
   "name": "python",
   "nbconvert_exporter": "python",
   "pygments_lexer": "ipython3",
   "version": "3.9.19"
  },
  "toc": {
   "base_numbering": 1,
   "nav_menu": {},
   "number_sections": true,
   "sideBar": true,
   "skip_h1_title": true,
   "title_cell": "Table of Contents",
   "title_sidebar": "Contents",
   "toc_cell": false,
   "toc_position": {},
   "toc_section_display": true,
   "toc_window_display": false
  }
 },
 "nbformat": 4,
 "nbformat_minor": 4
}
